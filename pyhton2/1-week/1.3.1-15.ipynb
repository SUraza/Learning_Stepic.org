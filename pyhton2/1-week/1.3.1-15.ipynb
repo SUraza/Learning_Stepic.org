{
 "metadata": {
  "name": "",
  "signature": "sha256:85be54b5badfa20a652581ee62bcca082b4c1acdf825aa5ceb479b6c009dbf8d"
 },
 "nbformat": 3,
 "nbformat_minor": 0,
 "worksheets": [
  {
   "cells": [
    {
     "cell_type": "code",
     "collapsed": false,
     "input": [
      "x = [1, 2, 3]\n",
      "y = x\n",
      "y.append(4)\n",
      "\n",
      "s = \"123\"\n",
      "t = s\n",
      "t = t + \"4\"\n",
      "\n",
      "print(str(x) + \" \" + s)\n"
     ],
     "language": "python",
     "metadata": {},
     "outputs": [
      {
       "output_type": "stream",
       "stream": "stdout",
       "text": [
        "[1, 2, 3, 4] 123\n"
       ]
      }
     ],
     "prompt_number": 2
    },
    {
     "cell_type": "code",
     "collapsed": false,
     "input": [
      "x = [1, 2, 3]\n",
      "type(x)\n",
      "type(4)\n",
      "type(type(x))"
     ],
     "language": "python",
     "metadata": {},
     "outputs": [
      {
       "metadata": {},
       "output_type": "pyout",
       "prompt_number": 3,
       "text": [
        "type"
       ]
      }
     ],
     "prompt_number": 3
    },
    {
     "cell_type": "code",
     "collapsed": false,
     "input": [
      "# \u0424\u0443\u043d\u043a\u0446\u0438\u0438\n",
      "def function_name (arg1, arg2):\n",
      "    return arg1 + arg2\n",
      "x = function_name(8, 2)\n",
      "y = function_name(x, 21)\n",
      "print(y)"
     ],
     "language": "python",
     "metadata": {},
     "outputs": [
      {
       "output_type": "stream",
       "stream": "stdout",
       "text": [
        "31\n"
       ]
      }
     ],
     "prompt_number": 6
    },
    {
     "cell_type": "code",
     "collapsed": false,
     "input": [
      "def list_sum(lst):\n",
      "    result = 0\n",
      "    for element in lst:\n",
      "        result += element\n",
      "    return result\n",
      "def sum(a, b):\n",
      "    return a + b\n",
      "y = sum(14, 29)\n",
      "z = list_sum([1, 2, 3])\n",
      "print(y)\n",
      "print(z)"
     ],
     "language": "python",
     "metadata": {},
     "outputs": [
      {
       "output_type": "stream",
       "stream": "stdout",
       "text": [
        "43\n",
        "6\n"
       ]
      }
     ],
     "prompt_number": 10
    },
    {
     "cell_type": "code",
     "collapsed": false,
     "input": [
      "a = []\n",
      "\n",
      "def foo(arg1, arg2):\n",
      "  a.append(\"foo\")\n",
      "\n",
      "foo(a.append(\"arg1\"), a.append(\"arg2\"))\n",
      "\n",
      "print(a)"
     ],
     "language": "python",
     "metadata": {},
     "outputs": [
      {
       "output_type": "stream",
       "stream": "stdout",
       "text": [
        "['arg1', 'arg2', 'foo']\n"
       ]
      }
     ],
     "prompt_number": 13
    },
    {
     "cell_type": "code",
     "collapsed": false,
     "input": [
      "# \u0421\u0442\u0435\u043a \u0432\u044b\u0437\u043e\u0432\u043e\u0432\n",
      "\n",
      "def g():\n",
      "    print(\"I am in function g\")\n",
      "    \n",
      "def f():\n",
      "    print(\"I am in function f\")\n",
      "    g()\n",
      "    print(\"I am in function f\")\n",
      "    \n",
      "print(\"I am outside of any function\")\n",
      "f()\n",
      "print(\"I am outside of any function\")"
     ],
     "language": "python",
     "metadata": {},
     "outputs": [
      {
       "output_type": "stream",
       "stream": "stdout",
       "text": [
        "I am outside of any function\n",
        "I am in function f\n",
        "I am in function g\n",
        "I am in function f\n",
        "I am outside of any function\n"
       ]
      }
     ],
     "prompt_number": 17
    },
    {
     "cell_type": "code",
     "collapsed": false,
     "input": [
      "# \u0421\u0442\u0435\u043a \u0432\u044b\u0437\u043e\u0432\u043e\u0432\n",
      "\n",
      "x = [1, 2, 3]\n",
      "x.append(4)\n",
      "x.append(5)\n",
      "print(x)\n",
      "\n",
      "top = x.pop()\n",
      "print(top)\n",
      "print(x)\n",
      "\n",
      "top = x.pop()\n",
      "print(top)\n",
      "print(x)\n"
     ],
     "language": "python",
     "metadata": {},
     "outputs": [
      {
       "output_type": "stream",
       "stream": "stdout",
       "text": [
        "[1, 2, 3, 4, 5]\n",
        "5\n",
        "[1, 2, 3, 4]\n",
        "4\n",
        "[1, 2, 3]\n"
       ]
      }
     ],
     "prompt_number": 19
    },
    {
     "cell_type": "code",
     "collapsed": false,
     "input": [
      "# 1.3.7\n",
      "\n",
      "def h():\n",
      "  print(12)\n",
      "\n",
      "def f():\n",
      "  g(h)\n",
      "\n",
      "def g(a):\n",
      "  a()\n",
      "\n",
      "g(f)\n",
      "\n",
      "# \u043e\u0442\u0432\u0435\u0442: 6"
     ],
     "language": "python",
     "metadata": {},
     "outputs": [
      {
       "output_type": "stream",
       "stream": "stdout",
       "text": [
        "12\n"
       ]
      }
     ],
     "prompt_number": 23
    },
    {
     "cell_type": "code",
     "collapsed": false,
     "input": [
      "# \u0412\u043e\u0437\u0432\u0440\u0430\u0449\u0435\u043d\u0438\u0435 \u0437\u043d\u0430\u0447\u0435\u043d\u0438\u044f\n",
      "\n"
     ],
     "language": "python",
     "metadata": {},
     "outputs": [],
     "prompt_number": 25
    },
    {
     "cell_type": "code",
     "collapsed": false,
     "input": [],
     "language": "python",
     "metadata": {},
     "outputs": []
    }
   ],
   "metadata": {}
  }
 ]
}